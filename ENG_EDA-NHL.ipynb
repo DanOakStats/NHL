{
 "cells": [
  {
   "cell_type": "markdown",
   "metadata": {},
   "source": [
    "# Análise de Dados e Inteligência Artificial - NHL\n",
    "\n",
    "<p align=\"center\">\n",
    "    <img width=650 src=\"https://github.com/DanOliveira-DS/NHL/blob/master/images/web_hockey_basen_art.jpg?raw=true\">\n",
    "</p>\n",
    "\n",
    "Much inspired by Michael Lewis and his book \"Moneyball: The Art of Winning an Unfair Game\" (a must-read for lovers of the area that was adapted for the cinema under the title \"The Man Who Changed the Game\" by director Bennett Miller) showed how data analysis combined with a game plan can be a fantastic combination. In recent years advances in technology (wearable devices and sensors such as electronic bracelets, vests, GPS devices and other intelligent technologies) have allowed us to collect more and more data. However, a lot of accumulated data is not useful if you can't interpret it. Therefore, just as important as collecting statistical data is knowing how to decipher it. With this, the science of data applied to sports is already a reality because we are now able to generate value through this data thus helping in decision making.\n",
    "\n",
    "The analysis of these new data has made it possible not only to check classic statistics (victories, defeats, goals scored, goals conceded...), but also advanced statistics that seek to understand the different ways in which a move or player can influence a match. As a result, teams become more competitive, being able to prepare for an opponent or even a specific player they want to nullify in a match. All this thanks to the cross-checking of the athletes' performance history.\n",
    "\n",
    "Another use of collecting this data is to benefit large organizations with social data, where you can find patterns and form groups (clusters) using clustering algorithms, within the fan base and run campaigns on target groups. Knowing the factors that attract the most fans, the management of teams can focus on improving this aspect, which leads to win new fans and retain the older ones. Fans can be fed a huge amount of predictions and possibilities in real time with the statistics of their favorite team or player where they can compare their performance with other players in the rival team or the same team.\n",
    "\n",
    "Data science tries in its own way to explore the same questions that fans and coaches ask themselves: who do I think will win, and why? Who are the best players in the world right now? Which strategies are better, and why?\n",
    "\n",
    "<p align=\"center\">\n",
    "    <img width=750 src=\"https://github.com/DanOliveira-DS/NHL/blob/master/images/player.png?raw=true\">\n",
    "</p>\n",
    "\n",
    "But it's good not to rely blindly on statistics. As much as American sport is excellent at creating a solid database, the human factor can never be left out. Statistics may say something, but the context needs to be taken into account. Factors that are not yet represented in the data, such as the psychological condition and mood of the players, are also important keys when analyzing the game."
   ]
  },
  {
   "cell_type": "markdown",
   "metadata": {},
   "source": [
    "# Importando Bibliotecas"
   ]
  }
 ],
 "metadata": {
  "kernelspec": {
   "display_name": "Python 3",
   "language": "python",
   "name": "python3"
  },
  "language_info": {
   "codemirror_mode": {
    "name": "ipython",
    "version": 3
   },
   "file_extension": ".py",
   "mimetype": "text/x-python",
   "name": "python",
   "nbconvert_exporter": "python",
   "pygments_lexer": "ipython3",
   "version": "3.8.3"
  }
 },
 "nbformat": 4,
 "nbformat_minor": 4
}
