{
 "cells": [
  {
   "cell_type": "markdown",
   "metadata": {},
   "source": [
    "# Análise de Dados e Inteligência Artificial - NHL\n",
    "\n",
    "<p align=\"center\">\n",
    "    <img width=550 src=\"https://github.com/DanOliveira-DS/NHL/blob/master/images/web_hockey_basen_art.jpg?raw=true\">\n",
    "</p>\n",
    "\n",
    "Muito inspirado por Michael Lewis e seu livro \"*Moneyball: The Art of Winning an Unfair Game*\" (leitura obrigatória para amantes da area que foi adaptado para o cinema com o título \\\"O Homem que Mudou o Jogo\\\", do diretor Bennett Miller) mostrou como a análise de dados aliado a um plano de jogo podem ser uma combinação fantástica. Nos últimos anos os avanços na tecnologia (dispositivos e sensores wearable como pulseiras eletrônicas, coletes, dispositivos GPS e outras tecnologias inteligentes) nos permitiram coletar cada vez mais dados. Entretanto, um monte de dados acumulados não são úteis se você não consegue interpretá-los. Portanto, tão importante quanto coletar dados estatísticos é saber decifrá-los. Com isso, a ciência de dados aplicada aos esportes já é uma realidade porque agora somos capazes de gerar valor através desses dados ajudando assim nas tomadas de decisão.\n",
    "\n",
    "A análise desses novos dados possibilitou não apenas verificar estatísticas clássicas (vitorias, derrotas, gols feitos, gols sofridos..), mas tambem as estatísticas avançadas que procuram entender as diferentes maneiras com que uma jogada ou jogador pode influenciar uma partida. Com isso os times passaram a ser mais competitivos, sendo capazes de se prepararem  para um adversário ou até mesmo um jogador especifico que querem anular em uma partida. Tudo isso graças ao cruzamento de dados do histórico de desempenho dos atletas.\n",
    "\n",
    "Outro uso da coleta desses dados está em beneficiar as grandes organizações com dados sociais, onde pode-se encontrar padrões e formar grupos dentro da base de fãs e executar campanhas em grupos-alvo. Conhecendo os fatores que mais atraem os fãs, a gestão das equipes pode se concentrar em melhorar esse aspecto, o que leva a ganhar novos fãs e reter os mais antigos. Os fãs podem ser alimentados com uma quantidade enorme de previsões e possibilidades em tempo real com as estatísticas do seu time ou jogador favorito onde podem comparar a sua performance com os outros jogadores no time rival ou do mesmo time.\n",
    "\n",
    "\n",
    "A ciencia de dados tenta da sua maneira explorar as mesmas perguntas que os fãs e os treinadores se perguntam: quem eu acho que vai ganhar, e por quê? Quem são os melhores jogadores do mundo neste momento? Que estratégias são melhores, e porquê?.\n",
    "\n",
    "<p align=\"center\">\n",
    "    <img width=650 src=\"https://github.com/DanOliveira-DS/NHL/blob/master/images/player.png?raw=true\">\n",
    "</p>\n",
    "\n",
    "Mas é bom não confiar cegamente nas estatísticas. Por mais que o esporte americano seja excelente para criar uma base sólida de dados, o fator humano nunca pode ser deixado de lado. As estatísticas podem dizer algo, mas o contexto precisa ser levado em conta. Fatores que ainda não são representados nos dados, como a condição psicológica e o humor dos jogadores, também são chaves importantes na hora de analisar o jogo.\n"
   ]
  },
  {
   "cell_type": "markdown",
   "metadata": {},
   "source": [
    "# Importando Bibliotecas\n"
   ]
  },
  {
   "cell_type": "code",
   "execution_count": 21,
   "metadata": {},
   "outputs": [],
   "source": [
    "# suprimir avisos\n",
    "import warnings\n",
    "warnings.filterwarnings(\"ignore\")\n",
    "\n",
    "# bibliotecas para analise dos dados\n",
    "import numpy as np # algebra linear\n",
    "import pandas as pd # procesamento dos dados\n",
    "import datetime\n",
    "\n",
    "# setando opcoes globais do pandas\n",
    "pd.set_option('display.max_rows', 1000)\n",
    "pd.set_option('display.max_columns', 1000)\n",
    "\n",
    "# bibliotecas para visualização dos dados\n",
    "import matplotlib.pyplot as plt\n",
    "import matplotlib.colors as mcolors\n",
    "from matplotlib.widgets import Cursor, Button\n",
    "import seaborn as sns"
   ]
  },
  {
   "cell_type": "markdown",
   "metadata": {},
   "source": [
    "# Aquisição dos Dados\n",
    "Os dados que usaremos nesse projeto foram coletados utilizando a **NHL stats API** e desponibilizados por Martin Ellis na plataforma Kaggle no formato *.csv*. Não são apenas os resultados e as estatísticas dos jogos da NHL, mas também detalhes de jogadas individuais, como chutes, gols e defesas, incluindo data, hora e coordenadas x e y. Ao total são 9 conjuntos de dados que se relacionam como apresentado na tabela abaixo:\n",
    "\n",
    "<p align=\"center\">\n",
    "    <img width=900 src=\"https://github.com/DanOliveira-DS/NHL/blob/master/images/table_relationships.JPG?raw=true\">\n",
    "</p>\n"
   ]
  },
  {
   "cell_type": "markdown",
   "metadata": {},
   "source": [
    "# Descrição dos conjuntos de dados:\n",
    "\n",
    "* **game**: Reúne os registros de cada jogo no conjunto de dados;\n",
    "\n",
    "* **game_golie_stats**: As estatísticas dos goleiros que participaram dos jogos;\n",
    "  \n",
    "* **game_plays**: As jogadas individuais de cada jogo;\n",
    "    \n",
    "* **game_plays_player**: Os jogadores envolvidos em uma jogada;\n",
    "    \n",
    "* **game_skater_stats**: As estatísticas básicas dos jogadores. 36 entradas por jogo, uma para cada jogador do time;\n",
    "\n",
    "* **game_teams_stats**: As estatísticas básicas das equipes. Cada jogo terá duas entradas nesta tabela, uma para cada equipe;\n",
    "\n",
    "* **player_info**: Informações sobre os jogadores;\n",
    "    \n",
    "* **team_info**: informação sobre as equipes.\n",
    "\n",
    "Caso esteja interessado em ver como os dados são coletados, indico o vídeo do [Kevin Sidwar](https://www.youtube.com/watch?v=avp7fvuMT1E&t=214s). Ele é também um dos responsaveis por dar inicio a documentação da NHL stats api"
   ]
  },
  {
   "cell_type": "markdown",
   "metadata": {},
   "source": [
    "# Importando os conjuntos de dados"
   ]
  },
  {
   "cell_type": "code",
   "execution_count": 22,
   "metadata": {},
   "outputs": [],
   "source": [
    "# nhl_eda\n",
    "nhl_eda = pd.read_csv('datasets/nhl_eda_cleaned.csv', index_col='game_id')\n",
    "\n",
    "# game_golie_stats\n",
    "golie_stats = pd.read_csv('datasets/game_goalie_stats_cleaned.csv')\n",
    "\n",
    "# game_skater_stats\n",
    "skater_stats = pd.read_csv('datasets/game_skater_cleaned.csv')\n",
    "\n",
    "# stanley cup champions\n",
    "sc_champs = pd.read_csv(\"datasets/sc_champs.csv\")\n",
    "\n",
    "# plays\n",
    "#plays = pd.read_csv('nhl_datasets/plays_cleaned.csv', chunksize=5000)\n"
   ]
  },
  {
   "cell_type": "markdown",
   "metadata": {},
   "source": [
    "como passamos o parametro chunksize quando importando o conjunto `plays` precisamos unir os blocos criados."
   ]
  },
  {
   "cell_type": "code",
   "execution_count": 23,
   "metadata": {},
   "outputs": [],
   "source": [
    "# lista que vai armazenar os blocos\n",
    "#chunk_list = []  \n",
    "# iterar sobre os blocos\n",
    "#for chunk in plays:\n",
    "    # armazenando os blocos\n",
    "    #chunk_list.append(chunk)\n",
    "\n",
    "# concatenando os blocos\n",
    "#plays = pd.concat(chunk_list)"
   ]
  },
  {
   "cell_type": "markdown",
   "metadata": {},
   "source": [
    "Para facilitar nosso entendimento, vamos trabalhar cada categoria de dados que temos separadamente. Elas são:\n",
    "* Estatísticas dos times da NHL. -`nhl_eda`\n",
    "* Estatísticas dos jogadores de todas as equipes.-`golie_stats` e `skater_stats`\n",
    "* Estatísticas dos eventos os jogos.-`plays`"
   ]
  },
  {
   "cell_type": "markdown",
   "metadata": {},
   "source": [
    "# Analise Exploratoria dos Dados\n",
    "Antes de resolver um problema, é preciso conhecer os dados. A Análise Exploratória de Dados reúne um conjunto de ferramentas úteis para resumir e visualizar as características de uma base de dados. Deve ser parte fundamental de qualquer projeto de ciência de dados. Essas técnicas possibilitam criar uma primeira intuição sobre os dados, o que permite conhecer as suas informações, padrões e lançar hipóteses. Assim, gerando insights que auxiliam na criação de modelos de Machine Learning. \n",
    "\n",
    "**Levantamento de hipóteses**\n",
    "* Quantos jogos no total tivemos por temporada? Quantos deles reprentam a temporada regular e os playoffs?\n",
    "* Qual time possui o maior número de jogos e o melhor aproveitamento?\n",
    "* O time que teve o melhor desempenho na temporada regular foi o campeão? Os playoffs e de fato uma outra competição?\n",
    "* Time mandantes jogam melhor em casa?\n",
    "* Qual foi o maior numero de gols feito por um time em uma partida?\n",
    "* Qual a media de gols por time?\n",
    "* Como está desempenho do ataque e defesa dos times nas temporadas?\n",
    "* Qual time acumula mais Hits e PIMs?\n",
    "* O jogo ficou mais fisico (mais hits) durante os anos (season) ouve aumento nas penalidades?\n",
    "* Os times com maior numero de hits e pim como foi o desempenho atraves das temporadas\n",
    "* Quais variáveis mais influenciam para a vitoria.\n",
    "\n",
    "\n"
   ]
  },
  {
   "cell_type": "markdown",
   "metadata": {},
   "source": [
    "## Conhecendo o conjunto de dados\n",
    "A primeira coisa que faremos após importar o dataset será examinar as dimensões do DataFrame e as primeiras entradas. Isso possibilitará criar uma consciência situacional inicial a respeito do formato de entrada e da estrutura geral dos dados."
   ]
  },
  {
   "cell_type": "markdown",
   "metadata": {},
   "source": [
    "### Qual o tamanho do conjunto de dados? (Quantas observações e features)\n",
    "\n"
   ]
  },
  {
   "cell_type": "code",
   "execution_count": 24,
   "metadata": {},
   "outputs": [
    {
     "name": "stdout",
     "output_type": "stream",
     "text": [
      "Dimensão do conjunto de dados:\n",
      "Observações: 22868\n",
      "Variáveis:   18\n"
     ]
    }
   ],
   "source": [
    "# Dimensao do conjunto de dados nhl_eda\n",
    "print(\"Dimensão do conjunto de dados:\")\n",
    "print(f\"Observações: {nhl_eda.shape[0]}\")\n",
    "print(f\"Variáveis:   {nhl_eda.shape[1]}\")"
   ]
  },
  {
   "cell_type": "code",
   "execution_count": 25,
   "metadata": {},
   "outputs": [
    {
     "data": {
      "text/html": [
       "<div>\n",
       "<style scoped>\n",
       "    .dataframe tbody tr th:only-of-type {\n",
       "        vertical-align: middle;\n",
       "    }\n",
       "\n",
       "    .dataframe tbody tr th {\n",
       "        vertical-align: top;\n",
       "    }\n",
       "\n",
       "    .dataframe thead th {\n",
       "        text-align: right;\n",
       "    }\n",
       "</style>\n",
       "<table border=\"1\" class=\"dataframe\">\n",
       "  <thead>\n",
       "    <tr style=\"text-align: right;\">\n",
       "      <th></th>\n",
       "      <th>season</th>\n",
       "      <th>type</th>\n",
       "      <th>date_time</th>\n",
       "      <th>team_name</th>\n",
       "      <th>goals_for</th>\n",
       "      <th>goals_against</th>\n",
       "      <th>HoA</th>\n",
       "      <th>settled_in</th>\n",
       "      <th>head_coach</th>\n",
       "      <th>shots</th>\n",
       "      <th>hits</th>\n",
       "      <th>pim</th>\n",
       "      <th>powerPlayOpportunities</th>\n",
       "      <th>powerPlayGoals</th>\n",
       "      <th>faceOffWinPercentage</th>\n",
       "      <th>giveaways</th>\n",
       "      <th>takeaways</th>\n",
       "      <th>outcome</th>\n",
       "    </tr>\n",
       "    <tr>\n",
       "      <th>game_id</th>\n",
       "      <th></th>\n",
       "      <th></th>\n",
       "      <th></th>\n",
       "      <th></th>\n",
       "      <th></th>\n",
       "      <th></th>\n",
       "      <th></th>\n",
       "      <th></th>\n",
       "      <th></th>\n",
       "      <th></th>\n",
       "      <th></th>\n",
       "      <th></th>\n",
       "      <th></th>\n",
       "      <th></th>\n",
       "      <th></th>\n",
       "      <th></th>\n",
       "      <th></th>\n",
       "      <th></th>\n",
       "    </tr>\n",
       "  </thead>\n",
       "  <tbody>\n",
       "    <tr>\n",
       "      <th>2011030221</th>\n",
       "      <td>20112012</td>\n",
       "      <td>P</td>\n",
       "      <td>2012-04-29</td>\n",
       "      <td>Devils</td>\n",
       "      <td>3</td>\n",
       "      <td>4</td>\n",
       "      <td>away</td>\n",
       "      <td>OT</td>\n",
       "      <td>Peter DeBoer</td>\n",
       "      <td>26</td>\n",
       "      <td>31</td>\n",
       "      <td>12</td>\n",
       "      <td>3</td>\n",
       "      <td>1</td>\n",
       "      <td>44.9</td>\n",
       "      <td>6</td>\n",
       "      <td>7</td>\n",
       "      <td>L</td>\n",
       "    </tr>\n",
       "    <tr>\n",
       "      <th>2011030221</th>\n",
       "      <td>20112012</td>\n",
       "      <td>P</td>\n",
       "      <td>2012-04-29</td>\n",
       "      <td>Flyers</td>\n",
       "      <td>4</td>\n",
       "      <td>3</td>\n",
       "      <td>home</td>\n",
       "      <td>OT</td>\n",
       "      <td>Peter Laviolette</td>\n",
       "      <td>36</td>\n",
       "      <td>27</td>\n",
       "      <td>6</td>\n",
       "      <td>6</td>\n",
       "      <td>1</td>\n",
       "      <td>55.1</td>\n",
       "      <td>13</td>\n",
       "      <td>4</td>\n",
       "      <td>W</td>\n",
       "    </tr>\n",
       "    <tr>\n",
       "      <th>2011030222</th>\n",
       "      <td>20112012</td>\n",
       "      <td>P</td>\n",
       "      <td>2012-05-01</td>\n",
       "      <td>Devils</td>\n",
       "      <td>4</td>\n",
       "      <td>1</td>\n",
       "      <td>away</td>\n",
       "      <td>REG</td>\n",
       "      <td>Peter DeBoer</td>\n",
       "      <td>35</td>\n",
       "      <td>32</td>\n",
       "      <td>12</td>\n",
       "      <td>4</td>\n",
       "      <td>0</td>\n",
       "      <td>50.9</td>\n",
       "      <td>8</td>\n",
       "      <td>7</td>\n",
       "      <td>W</td>\n",
       "    </tr>\n",
       "    <tr>\n",
       "      <th>2011030222</th>\n",
       "      <td>20112012</td>\n",
       "      <td>P</td>\n",
       "      <td>2012-05-01</td>\n",
       "      <td>Flyers</td>\n",
       "      <td>1</td>\n",
       "      <td>4</td>\n",
       "      <td>home</td>\n",
       "      <td>REG</td>\n",
       "      <td>Peter Laviolette</td>\n",
       "      <td>20</td>\n",
       "      <td>24</td>\n",
       "      <td>32</td>\n",
       "      <td>5</td>\n",
       "      <td>0</td>\n",
       "      <td>49.1</td>\n",
       "      <td>9</td>\n",
       "      <td>6</td>\n",
       "      <td>L</td>\n",
       "    </tr>\n",
       "    <tr>\n",
       "      <th>2011030223</th>\n",
       "      <td>20112012</td>\n",
       "      <td>P</td>\n",
       "      <td>2012-05-03</td>\n",
       "      <td>Flyers</td>\n",
       "      <td>3</td>\n",
       "      <td>4</td>\n",
       "      <td>away</td>\n",
       "      <td>OT</td>\n",
       "      <td>Peter Laviolette</td>\n",
       "      <td>28</td>\n",
       "      <td>28</td>\n",
       "      <td>4</td>\n",
       "      <td>5</td>\n",
       "      <td>1</td>\n",
       "      <td>50.8</td>\n",
       "      <td>2</td>\n",
       "      <td>1</td>\n",
       "      <td>L</td>\n",
       "    </tr>\n",
       "  </tbody>\n",
       "</table>\n",
       "</div>"
      ],
      "text/plain": [
       "              season type   date_time team_name  goals_for  goals_against  \\\n",
       "game_id                                                                     \n",
       "2011030221  20112012    P  2012-04-29    Devils          3              4   \n",
       "2011030221  20112012    P  2012-04-29    Flyers          4              3   \n",
       "2011030222  20112012    P  2012-05-01    Devils          4              1   \n",
       "2011030222  20112012    P  2012-05-01    Flyers          1              4   \n",
       "2011030223  20112012    P  2012-05-03    Flyers          3              4   \n",
       "\n",
       "             HoA settled_in        head_coach  shots  hits  pim  \\\n",
       "game_id                                                           \n",
       "2011030221  away         OT      Peter DeBoer     26    31   12   \n",
       "2011030221  home         OT  Peter Laviolette     36    27    6   \n",
       "2011030222  away        REG      Peter DeBoer     35    32   12   \n",
       "2011030222  home        REG  Peter Laviolette     20    24   32   \n",
       "2011030223  away         OT  Peter Laviolette     28    28    4   \n",
       "\n",
       "            powerPlayOpportunities  powerPlayGoals  faceOffWinPercentage  \\\n",
       "game_id                                                                    \n",
       "2011030221                       3               1                  44.9   \n",
       "2011030221                       6               1                  55.1   \n",
       "2011030222                       4               0                  50.9   \n",
       "2011030222                       5               0                  49.1   \n",
       "2011030223                       5               1                  50.8   \n",
       "\n",
       "            giveaways  takeaways outcome  \n",
       "game_id                                   \n",
       "2011030221          6          7       L  \n",
       "2011030221         13          4       W  \n",
       "2011030222          8          7       W  \n",
       "2011030222          9          6       L  \n",
       "2011030223          2          1       L  "
      ]
     },
     "execution_count": 25,
     "metadata": {},
     "output_type": "execute_result"
    }
   ],
   "source": [
    "# primeiras entradas\n",
    "nhl_eda.head()"
   ]
  },
  {
   "cell_type": "markdown",
   "metadata": {},
   "source": [
    "Descrição das variáveis:\n",
    "* `game_id` - Número identificador da partida.\n",
    "* `season` - Temporada em que ocorreu o jogo\n",
    "* `type` - Indica se os jogos aconteceram na temporada regular (R) ou playoffs (P)\n",
    "* `date_time` - Data que ocorreu a partida\n",
    "* `team_name` - Nome do time\n",
    "* `goals_for` - Número de gols a favor\n",
    "* `goals_against` - Número de gols contra\n",
    "* `HoA` - Indica se o time jogou como mandante (*home*) ou visitante (*away*)\n",
    "* `settled_in` - Indica como o jogo foi resolvido: tempo regular (REG), overtime (OT) ou shootout (SO)\n",
    "* `head_coach` - Nome do técnico  \n",
    "* `shots` - Número de shots dado pelo time na partida\n",
    "* `hits` - Número de hits dado pelo time na partida\n",
    "* `pim` - Minutos de penalização atribuídos ao jogador.\n",
    "* `powerPlayOpportunities` - Contabiliza o número de oportunidades no *power plays*\n",
    "* `powerPlayGoals` - Número de gols no *power plays*\n",
    "* `faceOffWinPercentage` - Porcentagem de vitória no faceoff\n",
    "* `giveaways` - Contabiliza o erro que faz com que um jogador com posse do disco o perca para um jogador do time adversário.\n",
    "* `takeways` - Contabiliza a ação forçada tomada por um jogador defensivo para recuperar a posse do disco para sua equipe\n",
    "* `outcome` - Resultado da partida: L (derrotado) e W (vitorioso)"
   ]
  },
  {
   "cell_type": "markdown",
   "metadata": {},
   "source": [
    "### Quais são os tipos de dados das minhas features? (Numéricos, categóricos)\n",
    "Vamos realizar o levantamento dos tipos de variáveis que compõem o DataFrame a fim de estabelecer a divisão entre as variáveis numéricas e as variáveis categóricas."
   ]
  },
  {
   "cell_type": "code",
   "execution_count": 26,
   "metadata": {},
   "outputs": [
    {
     "data": {
      "text/html": [
       "<div>\n",
       "<style scoped>\n",
       "    .dataframe tbody tr th:only-of-type {\n",
       "        vertical-align: middle;\n",
       "    }\n",
       "\n",
       "    .dataframe tbody tr th {\n",
       "        vertical-align: top;\n",
       "    }\n",
       "\n",
       "    .dataframe thead th {\n",
       "        text-align: right;\n",
       "    }\n",
       "</style>\n",
       "<table border=\"1\" class=\"dataframe\">\n",
       "  <thead>\n",
       "    <tr style=\"text-align: right;\">\n",
       "      <th></th>\n",
       "      <th>tipo_da_var</th>\n",
       "    </tr>\n",
       "  </thead>\n",
       "  <tbody>\n",
       "    <tr>\n",
       "      <th>season</th>\n",
       "      <td>int64</td>\n",
       "    </tr>\n",
       "    <tr>\n",
       "      <th>type</th>\n",
       "      <td>object</td>\n",
       "    </tr>\n",
       "    <tr>\n",
       "      <th>date_time</th>\n",
       "      <td>object</td>\n",
       "    </tr>\n",
       "    <tr>\n",
       "      <th>team_name</th>\n",
       "      <td>object</td>\n",
       "    </tr>\n",
       "    <tr>\n",
       "      <th>goals_for</th>\n",
       "      <td>int64</td>\n",
       "    </tr>\n",
       "    <tr>\n",
       "      <th>goals_against</th>\n",
       "      <td>int64</td>\n",
       "    </tr>\n",
       "    <tr>\n",
       "      <th>HoA</th>\n",
       "      <td>object</td>\n",
       "    </tr>\n",
       "    <tr>\n",
       "      <th>settled_in</th>\n",
       "      <td>object</td>\n",
       "    </tr>\n",
       "    <tr>\n",
       "      <th>head_coach</th>\n",
       "      <td>object</td>\n",
       "    </tr>\n",
       "    <tr>\n",
       "      <th>shots</th>\n",
       "      <td>int64</td>\n",
       "    </tr>\n",
       "    <tr>\n",
       "      <th>hits</th>\n",
       "      <td>int64</td>\n",
       "    </tr>\n",
       "    <tr>\n",
       "      <th>pim</th>\n",
       "      <td>int64</td>\n",
       "    </tr>\n",
       "    <tr>\n",
       "      <th>powerPlayOpportunities</th>\n",
       "      <td>int64</td>\n",
       "    </tr>\n",
       "    <tr>\n",
       "      <th>powerPlayGoals</th>\n",
       "      <td>int64</td>\n",
       "    </tr>\n",
       "    <tr>\n",
       "      <th>faceOffWinPercentage</th>\n",
       "      <td>float64</td>\n",
       "    </tr>\n",
       "    <tr>\n",
       "      <th>giveaways</th>\n",
       "      <td>int64</td>\n",
       "    </tr>\n",
       "    <tr>\n",
       "      <th>takeaways</th>\n",
       "      <td>int64</td>\n",
       "    </tr>\n",
       "    <tr>\n",
       "      <th>outcome</th>\n",
       "      <td>object</td>\n",
       "    </tr>\n",
       "  </tbody>\n",
       "</table>\n",
       "</div>"
      ],
      "text/plain": [
       "                       tipo_da_var\n",
       "season                       int64\n",
       "type                        object\n",
       "date_time                   object\n",
       "team_name                   object\n",
       "goals_for                    int64\n",
       "goals_against                int64\n",
       "HoA                         object\n",
       "settled_in                  object\n",
       "head_coach                  object\n",
       "shots                        int64\n",
       "hits                         int64\n",
       "pim                          int64\n",
       "powerPlayOpportunities       int64\n",
       "powerPlayGoals               int64\n",
       "faceOffWinPercentage       float64\n",
       "giveaways                    int64\n",
       "takeaways                    int64\n",
       "outcome                     object"
      ]
     },
     "execution_count": 26,
     "metadata": {},
     "output_type": "execute_result"
    }
   ],
   "source": [
    "# tipos dos dados\n",
    "nhl_eda.dtypes.to_frame(name=\"tipo_da_var\")"
   ]
  },
  {
   "cell_type": "markdown",
   "metadata": {},
   "source": [
    "Em relação aos tipos dos nossos dados nossas variáveis estão bem representadas. A única variável que alteraremos o tipo e a `date_time` que foi lida como *object* e vamos transformá-la no tipo *datetime*. Isso abre a possibilidade de trabalharmos com séries temporais. Esse procedimento foi feito na etapa de limpeza dos dados, mas por algum motivo o pandas leu essa nossa variável de forma equivocada."
   ]
  },
  {
   "cell_type": "code",
   "execution_count": 27,
   "metadata": {},
   "outputs": [
    {
     "name": "stdout",
     "output_type": "stream",
     "text": [
      "Conversão realizada com sucesso…\n"
     ]
    }
   ],
   "source": [
    "# realizando a mudanca do tipo da variavel\n",
    "for column in ['date_time']:\n",
    "    nhl_eda[column] = pd.to_datetime(nhl_eda[column], errors='coerce')\n",
    "    print(\"Conversão realizada com sucesso…\")"
   ]
  },
  {
   "cell_type": "markdown",
   "metadata": {},
   "source": [
    "Verificando novo tipo da variável."
   ]
  },
  {
   "cell_type": "code",
   "execution_count": 28,
   "metadata": {},
   "outputs": [
    {
     "data": {
      "text/html": [
       "<div>\n",
       "<style scoped>\n",
       "    .dataframe tbody tr th:only-of-type {\n",
       "        vertical-align: middle;\n",
       "    }\n",
       "\n",
       "    .dataframe tbody tr th {\n",
       "        vertical-align: top;\n",
       "    }\n",
       "\n",
       "    .dataframe thead th {\n",
       "        text-align: right;\n",
       "    }\n",
       "</style>\n",
       "<table border=\"1\" class=\"dataframe\">\n",
       "  <thead>\n",
       "    <tr style=\"text-align: right;\">\n",
       "      <th></th>\n",
       "      <th>tipo_da_var</th>\n",
       "    </tr>\n",
       "  </thead>\n",
       "  <tbody>\n",
       "    <tr>\n",
       "      <th>season</th>\n",
       "      <td>int64</td>\n",
       "    </tr>\n",
       "    <tr>\n",
       "      <th>type</th>\n",
       "      <td>object</td>\n",
       "    </tr>\n",
       "    <tr>\n",
       "      <th>date_time</th>\n",
       "      <td>datetime64[ns]</td>\n",
       "    </tr>\n",
       "    <tr>\n",
       "      <th>team_name</th>\n",
       "      <td>object</td>\n",
       "    </tr>\n",
       "    <tr>\n",
       "      <th>goals_for</th>\n",
       "      <td>int64</td>\n",
       "    </tr>\n",
       "    <tr>\n",
       "      <th>goals_against</th>\n",
       "      <td>int64</td>\n",
       "    </tr>\n",
       "    <tr>\n",
       "      <th>HoA</th>\n",
       "      <td>object</td>\n",
       "    </tr>\n",
       "    <tr>\n",
       "      <th>settled_in</th>\n",
       "      <td>object</td>\n",
       "    </tr>\n",
       "    <tr>\n",
       "      <th>head_coach</th>\n",
       "      <td>object</td>\n",
       "    </tr>\n",
       "    <tr>\n",
       "      <th>shots</th>\n",
       "      <td>int64</td>\n",
       "    </tr>\n",
       "    <tr>\n",
       "      <th>hits</th>\n",
       "      <td>int64</td>\n",
       "    </tr>\n",
       "    <tr>\n",
       "      <th>pim</th>\n",
       "      <td>int64</td>\n",
       "    </tr>\n",
       "    <tr>\n",
       "      <th>powerPlayOpportunities</th>\n",
       "      <td>int64</td>\n",
       "    </tr>\n",
       "    <tr>\n",
       "      <th>powerPlayGoals</th>\n",
       "      <td>int64</td>\n",
       "    </tr>\n",
       "    <tr>\n",
       "      <th>faceOffWinPercentage</th>\n",
       "      <td>float64</td>\n",
       "    </tr>\n",
       "    <tr>\n",
       "      <th>giveaways</th>\n",
       "      <td>int64</td>\n",
       "    </tr>\n",
       "    <tr>\n",
       "      <th>takeaways</th>\n",
       "      <td>int64</td>\n",
       "    </tr>\n",
       "    <tr>\n",
       "      <th>outcome</th>\n",
       "      <td>object</td>\n",
       "    </tr>\n",
       "  </tbody>\n",
       "</table>\n",
       "</div>"
      ],
      "text/plain": [
       "                           tipo_da_var\n",
       "season                           int64\n",
       "type                            object\n",
       "date_time               datetime64[ns]\n",
       "team_name                       object\n",
       "goals_for                        int64\n",
       "goals_against                    int64\n",
       "HoA                             object\n",
       "settled_in                      object\n",
       "head_coach                      object\n",
       "shots                            int64\n",
       "hits                             int64\n",
       "pim                              int64\n",
       "powerPlayOpportunities           int64\n",
       "powerPlayGoals                   int64\n",
       "faceOffWinPercentage           float64\n",
       "giveaways                        int64\n",
       "takeaways                        int64\n",
       "outcome                         object"
      ]
     },
     "execution_count": 28,
     "metadata": {},
     "output_type": "execute_result"
    }
   ],
   "source": [
    "nhl_eda.dtypes.to_frame(name='tipo_da_var')"
   ]
  },
  {
   "cell_type": "markdown",
   "metadata": {},
   "source": [
    "Perfeito, vamos continuar."
   ]
  },
  {
   "cell_type": "markdown",
   "metadata": {},
   "source": [
    "### Valores Ausentes\n",
    "Um passo importante na análise de dados é verificação de dados ausentes, isso porque a qualidade de um dataset está diretamente relacionada à quantidade de valores ausentes. É importante entender logo no início se esses valores nulos são significativos comparados ao total de entradas. Caso eles sejam significativos será necessário um tratamento nos dados antes de realizarmos nossas análises."
   ]
  },
  {
   "cell_type": "code",
   "execution_count": 29,
   "metadata": {},
   "outputs": [
    {
     "data": {
      "text/plain": [
       "season                    0\n",
       "type                      0\n",
       "date_time                 0\n",
       "team_name                 0\n",
       "goals_for                 0\n",
       "goals_against             0\n",
       "HoA                       0\n",
       "settled_in                0\n",
       "head_coach                0\n",
       "shots                     0\n",
       "hits                      0\n",
       "pim                       0\n",
       "powerPlayOpportunities    0\n",
       "powerPlayGoals            0\n",
       "faceOffWinPercentage      0\n",
       "giveaways                 0\n",
       "takeaways                 0\n",
       "outcome                   0\n",
       "dtype: int64"
      ]
     },
     "execution_count": 29,
     "metadata": {},
     "output_type": "execute_result"
    }
   ],
   "source": [
    "# verificando valores ausentes\n",
    "nhl_eda.isna().sum()"
   ]
  },
  {
   "cell_type": "markdown",
   "metadata": {},
   "source": [
    "Podemos ver que temos um conjunto de dados bem limpo."
   ]
  },
  {
   "cell_type": "markdown",
   "metadata": {},
   "source": [
    "\n",
    "### Estatística descritiva  dos dados\n",
    "Como o nome sugere, ajudam a descrever e compreender os conjuntos de dados, apresentando-os de uma maneira mais significativa, o que permite uma interpretação mais simples dos dados. Aqui vamos ter as medidas de tendências centrais e de variabilidade.\n",
    "As medidas de tendências centrais representa o ponto central ou valor típico de um conjunto de dados (**media, mediana e a moda**). Já as medidas de variabilidade representa a quantidade de dispersão num conjunto de dados, ou seja, definem a distância a que os pontos de dados tendem a cair do centro (**variância, desvio padrão, intervalo interquartil..**)\n",
    "\n",
    "No pandas podemos usar a função *describe()* onde imediatamente obtemos um resumo contendo algumas das principais informações estatísticas relevantes:\n",
    "\n",
    "* count – quantidade de entradas válidas\n",
    "* mean – média dos valores\n",
    "* std – desvio padrão\n",
    "* min – menor valor da coluna\n",
    "* 25% - (Q1) primeiro quartil 25\n",
    "* 50% - mediana\n",
    "* 75% - (Q3) terceiro quartil 75\n",
    "* max – maior valor da coluna\n",
    "\n",
    "Ainda é possível identificar colunas com possíveis *outliers* (por exemplo, olhando o valor da mediana e comparando com valores máximos e mínimos)\n",
    "\n"
   ]
  },
  {
   "cell_type": "code",
   "execution_count": 30,
   "metadata": {},
   "outputs": [
    {
     "data": {
      "text/html": [
       "<div>\n",
       "<style scoped>\n",
       "    .dataframe tbody tr th:only-of-type {\n",
       "        vertical-align: middle;\n",
       "    }\n",
       "\n",
       "    .dataframe tbody tr th {\n",
       "        vertical-align: top;\n",
       "    }\n",
       "\n",
       "    .dataframe thead th {\n",
       "        text-align: right;\n",
       "    }\n",
       "</style>\n",
       "<table border=\"1\" class=\"dataframe\">\n",
       "  <thead>\n",
       "    <tr style=\"text-align: right;\">\n",
       "      <th></th>\n",
       "      <th>season</th>\n",
       "      <th>goals_for</th>\n",
       "      <th>goals_against</th>\n",
       "      <th>shots</th>\n",
       "      <th>hits</th>\n",
       "      <th>pim</th>\n",
       "      <th>powerPlayOpportunities</th>\n",
       "      <th>powerPlayGoals</th>\n",
       "      <th>faceOffWinPercentage</th>\n",
       "      <th>giveaways</th>\n",
       "      <th>takeaways</th>\n",
       "    </tr>\n",
       "  </thead>\n",
       "  <tbody>\n",
       "    <tr>\n",
       "      <th>count</th>\n",
       "      <td>2.286800e+04</td>\n",
       "      <td>22868.000000</td>\n",
       "      <td>22868.000000</td>\n",
       "      <td>22868.000000</td>\n",
       "      <td>22868.000000</td>\n",
       "      <td>22868.000000</td>\n",
       "      <td>22868.000000</td>\n",
       "      <td>22868.000000</td>\n",
       "      <td>22868.000000</td>\n",
       "      <td>22868.000000</td>\n",
       "      <td>22868.000000</td>\n",
       "    </tr>\n",
       "    <tr>\n",
       "      <th>mean</th>\n",
       "      <td>2.014315e+07</td>\n",
       "      <td>2.743047</td>\n",
       "      <td>2.794254</td>\n",
       "      <td>30.396405</td>\n",
       "      <td>23.607574</td>\n",
       "      <td>10.175791</td>\n",
       "      <td>3.179334</td>\n",
       "      <td>0.592356</td>\n",
       "      <td>50.000000</td>\n",
       "      <td>8.648155</td>\n",
       "      <td>6.919801</td>\n",
       "    </tr>\n",
       "    <tr>\n",
       "      <th>std</th>\n",
       "      <td>2.609836e+04</td>\n",
       "      <td>1.640201</td>\n",
       "      <td>1.641038</td>\n",
       "      <td>6.832590</td>\n",
       "      <td>8.595527</td>\n",
       "      <td>8.038863</td>\n",
       "      <td>1.562107</td>\n",
       "      <td>0.759193</td>\n",
       "      <td>7.203451</td>\n",
       "      <td>4.861654</td>\n",
       "      <td>3.840531</td>\n",
       "    </tr>\n",
       "    <tr>\n",
       "      <th>min</th>\n",
       "      <td>2.010201e+07</td>\n",
       "      <td>0.000000</td>\n",
       "      <td>0.000000</td>\n",
       "      <td>10.000000</td>\n",
       "      <td>2.000000</td>\n",
       "      <td>0.000000</td>\n",
       "      <td>0.000000</td>\n",
       "      <td>0.000000</td>\n",
       "      <td>20.800000</td>\n",
       "      <td>0.000000</td>\n",
       "      <td>0.000000</td>\n",
       "    </tr>\n",
       "    <tr>\n",
       "      <th>25%</th>\n",
       "      <td>2.012201e+07</td>\n",
       "      <td>2.000000</td>\n",
       "      <td>2.000000</td>\n",
       "      <td>26.000000</td>\n",
       "      <td>17.000000</td>\n",
       "      <td>6.000000</td>\n",
       "      <td>2.000000</td>\n",
       "      <td>0.000000</td>\n",
       "      <td>45.200000</td>\n",
       "      <td>5.000000</td>\n",
       "      <td>4.000000</td>\n",
       "    </tr>\n",
       "    <tr>\n",
       "      <th>50%</th>\n",
       "      <td>2.014202e+07</td>\n",
       "      <td>3.000000</td>\n",
       "      <td>3.000000</td>\n",
       "      <td>30.000000</td>\n",
       "      <td>23.000000</td>\n",
       "      <td>8.000000</td>\n",
       "      <td>3.000000</td>\n",
       "      <td>0.000000</td>\n",
       "      <td>50.000000</td>\n",
       "      <td>8.000000</td>\n",
       "      <td>6.000000</td>\n",
       "    </tr>\n",
       "    <tr>\n",
       "      <th>75%</th>\n",
       "      <td>2.016202e+07</td>\n",
       "      <td>4.000000</td>\n",
       "      <td>4.000000</td>\n",
       "      <td>35.000000</td>\n",
       "      <td>29.000000</td>\n",
       "      <td>12.000000</td>\n",
       "      <td>4.000000</td>\n",
       "      <td>1.000000</td>\n",
       "      <td>54.800000</td>\n",
       "      <td>12.000000</td>\n",
       "      <td>9.000000</td>\n",
       "    </tr>\n",
       "    <tr>\n",
       "      <th>max</th>\n",
       "      <td>2.018202e+07</td>\n",
       "      <td>10.000000</td>\n",
       "      <td>10.000000</td>\n",
       "      <td>64.000000</td>\n",
       "      <td>80.000000</td>\n",
       "      <td>183.000000</td>\n",
       "      <td>12.000000</td>\n",
       "      <td>6.000000</td>\n",
       "      <td>79.200000</td>\n",
       "      <td>36.000000</td>\n",
       "      <td>31.000000</td>\n",
       "    </tr>\n",
       "  </tbody>\n",
       "</table>\n",
       "</div>"
      ],
      "text/plain": [
       "             season     goals_for  goals_against         shots          hits  \\\n",
       "count  2.286800e+04  22868.000000   22868.000000  22868.000000  22868.000000   \n",
       "mean   2.014315e+07      2.743047       2.794254     30.396405     23.607574   \n",
       "std    2.609836e+04      1.640201       1.641038      6.832590      8.595527   \n",
       "min    2.010201e+07      0.000000       0.000000     10.000000      2.000000   \n",
       "25%    2.012201e+07      2.000000       2.000000     26.000000     17.000000   \n",
       "50%    2.014202e+07      3.000000       3.000000     30.000000     23.000000   \n",
       "75%    2.016202e+07      4.000000       4.000000     35.000000     29.000000   \n",
       "max    2.018202e+07     10.000000      10.000000     64.000000     80.000000   \n",
       "\n",
       "                pim  powerPlayOpportunities  powerPlayGoals  \\\n",
       "count  22868.000000            22868.000000    22868.000000   \n",
       "mean      10.175791                3.179334        0.592356   \n",
       "std        8.038863                1.562107        0.759193   \n",
       "min        0.000000                0.000000        0.000000   \n",
       "25%        6.000000                2.000000        0.000000   \n",
       "50%        8.000000                3.000000        0.000000   \n",
       "75%       12.000000                4.000000        1.000000   \n",
       "max      183.000000               12.000000        6.000000   \n",
       "\n",
       "       faceOffWinPercentage     giveaways     takeaways  \n",
       "count          22868.000000  22868.000000  22868.000000  \n",
       "mean              50.000000      8.648155      6.919801  \n",
       "std                7.203451      4.861654      3.840531  \n",
       "min               20.800000      0.000000      0.000000  \n",
       "25%               45.200000      5.000000      4.000000  \n",
       "50%               50.000000      8.000000      6.000000  \n",
       "75%               54.800000     12.000000      9.000000  \n",
       "max               79.200000     36.000000     31.000000  "
      ]
     },
     "execution_count": 30,
     "metadata": {},
     "output_type": "execute_result"
    }
   ],
   "source": [
    "# resumo estatistico\n",
    "nhl_eda.describe()"
   ]
  },
  {
   "cell_type": "markdown",
   "metadata": {},
   "source": [
    "Podemos ver que grande parte das nossas variáveis apresentaram valores discrepantes (*outliers*). Entender a presença desses outliers é importante porque os valores discrepantes distorcem nossa distribuição o que pode influenciar negativamente na performance dos algoritmos de machine learning já que eles assumem uma distribuição normal (gaussiana) nas variáveis de entrada. Uma das alternativas e filtrar esses valores discrepantes, mas isso significa a perda de informação. Portanto, antes de qualquer ação vamos investigá-los e ver o quanto significativos são.\n",
    "\n",
    "Como o cérebro humano tem dificuldade de processar grandes volumes de dados, uma das melhores abordagens é plotar a distribuição das variáveis. E o histograma e um gráfico que casa muito com o resumo estatístico que apresentamos. Vamos ao gráfico\n"
   ]
  },
  {
   "cell_type": "markdown",
   "metadata": {},
   "source": [
    "#### Histogramas\n",
    "\n",
    "Sao maneira rápida de ter uma ideia da distribuição de cada atributo é observar os histogramas. Os histogramas agrupam dados em posições e fornecem uma contagem do número de observações em cada posição. A partir da forma das caixas, você pode ter uma ideia rápida de se um atributo é gaussiano, inclinado(skewed) ou mesmo tem uma distribuição exponencial. Também pode ajudar a ver possíveis discrepâncias."
   ]
  },
  {
   "cell_type": "code",
   "execution_count": 31,
   "metadata": {},
   "outputs": [
    {
     "data": {
      "image/png": "[encoded data removed]",
      "text/plain": [
       "<Figure size 1152x360 with 12 Axes>"
      ]
     },
     "metadata": {
      "needs_background": "light"
     },
     "output_type": "display_data"
    }
   ],
   "source": [
    "# histograma\n",
    "nhl_eda.hist(figsize=(16, 5), layout=(2,6))\n",
    "plt.tight_layout()"
   ]
  },
  {
   "cell_type": "markdown",
   "metadata": {},
   "source": [
    "* O comportamento exponencial visto nas variáveis `pim`, `powerPlayGoals` mostra a influência dos valores discrepantes distorcendo a distribuição.\n",
    "* As variavel `season` apresentou um comportamento uniforme com uma queda bastante brusca. Vamos investigar para tentar responder tao comportamento.\n",
    "* As outras variáveis apesar de apresentarem valores discrepantes como foi visto no resumo estatístico aparentemente não sofreu tanta influência do mesmo uma vez que a distribuição lembra bastante a normal (gaussiana).\n",
    "\n",
    "\n"
   ]
  },
  {
   "cell_type": "markdown",
   "metadata": {},
   "source": [
    "### Quantos jogos no total tivemos por temporada? Quantos deles reprentam a temporada regular e os playoffs?"
   ]
  },
  {
   "cell_type": "code",
   "execution_count": 32,
   "metadata": {},
   "outputs": [
    {
     "name": "stdout",
     "output_type": "stream",
     "text": [
      "Numero total de jogos por temporada:\n",
      "20182019    2716\n",
      "20172018    2710\n",
      "20132014    2646\n",
      "20152016    2642\n",
      "20102011    2638\n",
      "20142015    2638\n",
      "20162017    2634\n",
      "20112012    2632\n",
      "20122013    1612\n"
     ]
    },
    {
     "data": {
      "image/png": "[encoded data removed]",
      "text/plain": [
       "<Figure size 720x432 with 1 Axes>"
      ]
     },
     "metadata": {
      "needs_background": "light"
     },
     "output_type": "display_data"
    }
   ],
   "source": [
    "# numero de jogos por temporada\n",
    "num_jogos_season = nhl_eda['season'].value_counts()\n",
    "print(f\"Numero total de jogos por temporada:\\n{num_jogos_season.to_string()}\")\n",
    "\n",
    "# gerando grafico\n",
    "fig, ax = plt.subplots(figsize=(10, 6))\n",
    "num_jogos_season.sort_index().plot(kind='bar',color='dimgray', ax=ax)\n",
    "\n",
    "# titulos\n",
    "ax.set_title(\"Numero total de jogos por temporada\", fontsize=22, loc='left', pad=25, alpha=0.5)\n",
    "ax.set_ylabel(\"Qnt. Jogos\", fontsize=13, labelpad=15)\n",
    "ax.set_xlabel(\"Temporadas\", fontsize=13, labelpad=15)\n",
    "ax.set_xticklabels(ax.get_xticklabels(), fontsize=12, rotation=10)\n",
    "\n",
    "\n",
    "# estilizando imagem\n",
    "ax.spines['top'].set_visible(False)\n",
    "ax.spines['right'].set_visible(False)\n",
    "ax.annotate('Lockout',fontsize=12, xy=(2, 1700), xytext=(1.5, 2800),\n",
    "            arrowprops=dict(arrowstyle=\"->\",\n",
    "                            connectionstyle=\"arc3\"))\n",
    "ax.patches[2].set_color('firebrick')\n",
    "plt.tight_layout()"
   ]
  },
  {
   "cell_type": "markdown",
   "metadata": {},
   "source": [
    "A temporada (`season`) 2012-2013 destacada no gráfico foi menor que as demais. O motivo foi o chamado *lockout*  que é quando os empregadores deixam de oferecer as condições necessárias para seus empregados trabalharem, visando mudanças em algum acordo coletivo. Na temporada em questão tivemos apenas 48 jogos. Para ler mais acesse [NHeLas](http://nhelas.com/o-que-e-um-lockout-e-como-funciona/)"
   ]
  },
  {
   "cell_type": "code",
   "execution_count": null,
   "metadata": {},
   "outputs": [],
   "source": []
  },
  {
   "cell_type": "code",
   "execution_count": null,
   "metadata": {},
   "outputs": [],
   "source": []
  },
  {
   "cell_type": "code",
   "execution_count": null,
   "metadata": {},
   "outputs": [],
   "source": []
  },
  {
   "cell_type": "code",
   "execution_count": null,
   "metadata": {},
   "outputs": [],
   "source": []
  },
  {
   "cell_type": "code",
   "execution_count": null,
   "metadata": {},
   "outputs": [],
   "source": []
  },
  {
   "cell_type": "code",
   "execution_count": null,
   "metadata": {},
   "outputs": [],
   "source": []
  },
  {
   "cell_type": "markdown",
   "metadata": {},
   "source": [
    "### Qual time tem o maior numero de jogos?\n",
    "Hora de verificar quais os times que mais jogaram na **NHL** (2010-2011 ~ 2018-2019). Nosso resultado vai apresentar a quantidade desses jogos na temporada regular os playoffs e a soma total\n",
    "\n",
    "**Analise nhl_eda**:\n",
    "* Qual time tem o maior numero de jogos?\n",
    "* Qual a taxa de vitorias dos times na temporada regular?\n",
    "* Qual a taxa de vitorias dos times nos playoffs?\n",
    "* apresentar evolucao do time selecionado em relacao as vitorias\n",
    "\n"
   ]
  },
  {
   "cell_type": "code",
   "execution_count": null,
   "metadata": {},
   "outputs": [],
   "source": [
    "# top 10 mais numero de jogos\n",
    "games_teams = nhl_eda['team_name'].value_counts()\n",
    "print(f\"10 Times com maior numero de jogos:\\n{games_teams.nlargest(10).to_string()}\")\n",
    "\n",
    "# geranndo grafico\n",
    "fig, ax = plt.subplots(figsize=(14, 8))\n",
    "games_teams.sort_values().plot(kind='barh', color='dimgray', ax=ax)\n",
    "ax.set_title(\"Numero de jogos por time\", fontsize=25, loc='left', pad=30, alpha=0.5)\n",
    "ax.set_yticklabels(ax.get_yticklabels(), fontsize=13)\n",
    "\n",
    "ax.spines['top'].set_visible(False)\n",
    "ax.spines['right'].set_visible(False)\n",
    "ax.patches[31].set_color(\"royalblue\")\n",
    "ax.patches[0].set_color(\"firebrick\")\n",
    "plt.tight_layout()"
   ]
  },
  {
   "cell_type": "markdown",
   "metadata": {},
   "source": [
    "Dentre as equipes aquela que mais jogou foi o time do **Pittsburgh Penguins** como destacado no gráfico, mas vale ressaltar que o time do **Atlanta Thrasher**, em vermelho, jogou na NHL entre os periodos de 1999–2011 depois mudou a franquia para Winnipeg adotando o nome de Winnipeg Jets. E como nossos dados abragem as temporadas de 2010-2011 ~ 2018-2019  só temos o registro da ultima temporada dos Thrashers consequentemente seus ultimos 82 jogos.\n",
    "\n",
    "No caso do Vegas Golden Knights temos uma fraquia que estreiou na NHL na temporada 2017-18. Onde acabou indo muito bem em seu primeiro ano, chegando ate as finais da Stanley Cup onde perdeu para Washington Capitals\""
   ]
  },
  {
   "cell_type": "code",
   "execution_count": null,
   "metadata": {},
   "outputs": [],
   "source": [
    "# taxa de vitorias\n",
    "teams_win = nhl_eda[nhl_eda['outcome']=='W']['team_name'].value_counts()\n",
    "win_rate = teams_win/games_teams\n",
    "print(win_rate.nlargest(10).to_string())\n"
   ]
  },
  {
   "cell_type": "code",
   "execution_count": null,
   "metadata": {},
   "outputs": [],
   "source": [
    "def team_win_loss(df, team_name):\n",
    "    # criando subset\n",
    "    team_wins = df[(df['team_name']== team_name) & (df['outcome']=='W')].groupby(['season','team_name'])['outcome'].value_counts().to_frame()\n",
    "    team_defeats = df[(df['team_name']== team_name) & (df['outcome']=='L')].groupby(['season','team_name'])['outcome'].value_counts().to_frame()\n",
    "    \n",
    "    # renomendo coluna\n",
    "    team_wins.rename(columns={'outcome':\"num_wins\"}, inplace=True)\n",
    "    team_defeats.rename(columns={'outcome':\"num_loss\"}, inplace=True)\n",
    "    \n",
    "    # resetando index\n",
    "    team_wins = team_wins.reset_index()\n",
    "    team_defeats = team_defeats.reset_index()\n",
    "    \n",
    "    # gerando grafico\n",
    "    fig, ax = plt.subplots(figsize=(14, 6))\n",
    "    team_wins.groupby(['season'])['num_wins'].sum().plot(linewidth=3, color=\"royalblue\", marker='o', label=\"vitórias\", ax=ax)\n",
    "    team_defeats.groupby(['season'])['num_loss'].sum().plot(linewidth=3, color=\"dimgray\", marker='o', label=\"derrotas\", ax=ax)\n",
    "\n",
    "    ax.set_title(team_name + \" wins and losses per Season\", fontsize=25, loc=\"left\", alpha=0.5, pad=25)\n",
    "\n",
    "    \n",
    "    plt.legend(bbox_to_anchor=(1.05, 1), loc=2, borderaxespad=0.)\n",
    "    ax.spines['top'].set_visible(False)\n",
    "    ax.spines['right'].set_visible(False)"
   ]
  },
  {
   "cell_type": "code",
   "execution_count": null,
   "metadata": {},
   "outputs": [],
   "source": [
    "team_name = input(\"Select team: \")\n",
    "team_win_loss(df=nhl_eda, team_name=team_name)"
   ]
  },
  {
   "cell_type": "markdown",
   "metadata": {},
   "source": [
    "### Gols\n",
    "Hora de analisar o quesito que da aos times a vitoria. Algumas perguntas que vamos tentar responder e:\n",
    "\n",
    "**Analise dos Times**:\n",
    "* Como esta a distribuição dos gols?\n",
    "* O fato de jogar em casa influencia nos resultados?\n",
    "* Qual foi o maior placar registrado?\n",
    "* Qual time marcou o maior número de gols (regular e playoffs)?\n",
    "* Qual a media de gols por temporada?\n",
    "* Qual a media de gols por time?\n",
    "* Apresentar evolucao no número de gols por temporada\n",
    "\n",
    "**Analise Individual**:\n",
    "* Qual jogador lidera a liga em gols feitos (2010-2011 ~ 2018-2019)?\n",
    "* Qual jogador liderou a liga em gols por temporada?\n",
    "* Apresentar localizacao dos gols feitos\n",
    "\n"
   ]
  },
  {
   "cell_type": "markdown",
   "metadata": {},
   "source": [
    "#### Como esta a distribuição dos gols?\n",
    "Vamos ver como os times e saem quando jogam como mandantes e como visitantes. Para analisamos esse comportamento vamos utilizar o grafico de caixa ou box plot.\n",
    "\n",
    "**Box plot**\n",
    "\n",
    "Um gráfico de caixa é um método para representar graficamente grupos de dados numéricos através de seus quartis. São uma maneira padronizada de exibir a distribuição de dados com base em um resumo de cinco números (“mínimo”, primeiro quartil (Q1), mediana, terceiro quartil (Q3) e “máximo”). Pontos extremos (outliers) são aqueles que passaram do fim dos bigodes e identificá-los é importante porque eles podem distorcer uma distribuição de probabilidade."
   ]
  },
  {
   "cell_type": "code",
   "execution_count": null,
   "metadata": {},
   "outputs": [],
   "source": [
    "# box plot gols\n",
    "distrib_goals = nhl_eda[nhl_eda[\"HoA\"]==\"home\"][['goals_for','goals_against']]\n",
    "\n",
    "# Gerando grafico\n",
    "fig, ax = plt.subplots(figsize=(10, 6))\n",
    "distrib_goals.plot(kind=\"box\", vert=False, showmeans=True, ax=ax)\n",
    "ax.set_title(\"Distribuicao dos gols\", fontsize=20, pad=25, loc=\"left\", alpha=0.55)\n",
    "\n",
    "# estilizando imagem\n",
    "ax.spines['top'].set_visible(False)\n",
    "ax.spines['right'].set_visible(False)\n",
    "ax.annotate(\"Média\",fontsize=12, xy=(2.87,1), xytext=(4,1.3),\n",
    "            arrowprops=dict(arrowstyle=\"->\",\n",
    "                            connectionstyle=\"angle3,angleA=0,angleB=90\"))\n",
    "plt.tight_layout()"
   ]
  },
  {
   "cell_type": "markdown",
   "metadata": {},
   "source": [
    "O gráfico representa a distribuição dos gols feitos e sofridos dos times mandantes. Não é preciso apresentar um gráfico dos times visitantes porque acabaria sendo redundante uma vez que apenas a ordem mudaria. Os gols sofridos passariam a ser os gols feitos e os gols feitos passariam a ser os gols sofridos. No final a informação passada seria a mesma.\n",
    "\n",
    "Conclusõe:\n",
    "* Os times mandantes tendem a fazer de 2 a 4 gols em 50% das vezes com uma média próxima dos 3 gols. Ja os times visitantes apresentam uma distribuição um pouco mais elástica marcando de 1 a 4 gols em 50% das vezes e com uma média superior a 2,5 gols. O maior valor discrepante (*outlier*) registrado em nosso conjunto de dados foi de 10 gols em uma partida.\n",
    "\n",
    "* De uma forma geral nosso gráfico apresentou bastante equilíbrio entre as equipes e que o fator casa não influenciou tanto no número de gols feitos ou sofridos. Talvez o setor que mais se beneficie seja o defensivo. Logo mais iremos ver essa distribuição de forma individual e ver se temos algum time que tire proveito dessa vantagem.\n",
    "\n",
    "Nosso conjunto de dados apresentou 6 casos onde tivemos 10 gols em uma única partida como podemos ver abaixo."
   ]
  },
  {
   "cell_type": "code",
   "execution_count": null,
   "metadata": {},
   "outputs": [],
   "source": [
    "nhl_eda[nhl_eda['goals_for'] == 10]"
   ]
  },
  {
   "cell_type": "markdown",
   "metadata": {},
   "source": [
    "Na maioria dos resultados o time mandante foi o responsável pelo feito. A maior liderança foi do time do *Columbus Blue Jackets* contra *Montreal Canadiens* no dia 04/11/2016 da fase regular da temporada de 2016-2017. Você pode acessar o [link](https://www.nhl.com/bluejackets/video/recap-mtl-0-cbj-10/t-277437100/c-46026003) caso queira assistir aos gols"
   ]
  },
  {
   "cell_type": "markdown",
   "metadata": {},
   "source": [
    "#### Distribuição dos gols por time"
   ]
  },
  {
   "cell_type": "code",
   "execution_count": null,
   "metadata": {},
   "outputs": [],
   "source": [
    "# GOLS FEITOS COMO MANDANTE\n",
    "fig, ax = plt.subplots(figsize=(14, 12))\n",
    "sns.boxplot(y='team_name', x='goals_for', data=nhl_eda[nhl_eda['HoA']=='home'],\n",
    "            order=nhl_eda['team_name'].value_counts().index, color='white' , width=0.8, showmeans=True, ax=ax, linewidth=1.75)\n",
    "\n",
    "plt.tight_layout()"
   ]
  },
  {
   "cell_type": "code",
   "execution_count": null,
   "metadata": {},
   "outputs": [],
   "source": [
    "# GOLS FEITOS COMO VISITANTE\n",
    "fig, ax = plt.subplots(figsize=(14, 12))\n",
    "sns.boxplot(y='team_name', x='goals_for', data=nhl_eda[nhl_eda['HoA']=='away'],\n",
    "            order=nhl_eda['team_name'].value_counts().index, color='white' , width=0.8, showmeans=True, ax=ax, linewidth=1.75)\n",
    "\n",
    "plt.tight_layout()"
   ]
  },
  {
   "cell_type": "code",
   "execution_count": null,
   "metadata": {},
   "outputs": [],
   "source": [
    "# GOLS TOMADOS COMO MANDANTES\n",
    "fig, ax = plt.subplots(figsize=(14, 12))\n",
    "sns.boxplot(y='team_name', x='goals_against', data=nhl_eda[nhl_eda['HoA']=='home'],\n",
    "            order=nhl_eda['team_name'].value_counts().index, color='white' , width=0.8, showmeans=True, ax=ax, linewidth=1.75)\n",
    "\n",
    "plt.tight_layout()"
   ]
  },
  {
   "cell_type": "code",
   "execution_count": null,
   "metadata": {},
   "outputs": [],
   "source": [
    "# GOLS TOMADOS COMO VISITANTES\n",
    "fig, ax = plt.subplots(figsize=(14, 12))\n",
    "sns.boxplot(y='team_name', x='goals_against', data=nhl_eda[nhl_eda['HoA']=='away'],\n",
    "            order=nhl_eda['team_name'].value_counts().index, color='white' , width=0.8, showmeans=True, ax=ax, linewidth=1.75)\n",
    "\n",
    "plt.tight_layout()"
   ]
  },
  {
   "cell_type": "markdown",
   "metadata": {},
   "source": [
    "### Hits\n",
    "\"Hits\" é uma palavra para \"choque corporal\" no hóquei no gelo. Quando um oponente está na posse do disco ou simplesmente desistiu da posse do disco, você pode usar o ombro ou o quadril para impedir seu progresso, aplicando um \"choque corporal\" que atinge a área do peito / ombro ou a área do quadril. Essa estatística fornece uma indicação de como fisicamente um indivíduo ou equipe joga contra seus oponentes.\n",
    "\n",
    "**Analise dos times**:\n",
    "* Qual o número total de hits por temporada?\n",
    "* Qual os times com o maior e menor numero de hits?\n",
    "* Qual a evolucao atraves das temporadas?\n",
    "\n",
    "**Analises individuais**:\n",
    "* Qual jogar com maior numero de Hits?\n",
    "* Qual jogador liderou a liga em hits por temporada?\n",
    "* Apresentar localizacao dos hits para qualquer jogador selecionado!\n",
    "\n"
   ]
  },
  {
   "cell_type": "markdown",
   "metadata": {},
   "source": [
    "### PIM\n",
    "Tradicionalmente, é chamado de \"Penalty In Minutes\" (PIM), que representa a duração total das penalidades avaliadas por cada jogador ou equipe. Por exemplo, se um jogador em um jogo recebe uma minor (2 minutos) e uma major (5 minutos), o total desse jogo seria 7 PIMs.\n",
    "\n",
    "**Analise dos times**:\n",
    "* Qual o número total de pim por temporada?\n",
    "* Qual os times com o maior e menor numero de pim?\n",
    "* Qual a evolucao atraves das temporadas?\n",
    "\n",
    "**Analises individuais**:\n",
    "* Qual jogar com maior numero de penalidades?\n",
    "* Qual jogador liderou a liga em penalidades por temporada?\n",
    "* Apresentar localizacao das penalidades para qualquer jogador selecionado!\n",
    "\n"
   ]
  }
 ],
 "metadata": {
  "hide_input": true,
  "kernelspec": {
   "display_name": "Python 3",
   "language": "python",
   "name": "python3"
  },
  "language_info": {
   "codemirror_mode": {
    "name": "ipython",
    "version": 3
   },
   "file_extension": ".py",
   "mimetype": "text/x-python",
   "name": "python",
   "nbconvert_exporter": "python",
   "pygments_lexer": "ipython3",
   "version": "3.8.3"
  },
  "toc": {
   "base_numbering": 1,
   "nav_menu": {},
   "number_sections": true,
   "sideBar": true,
   "skip_h1_title": false,
   "title_cell": "Table of Contents",
   "title_sidebar": "Contents",
   "toc_cell": false,
   "toc_position": {
    "height": "calc(100% - 180px)",
    "left": "10px",
    "top": "150px",
    "width": "165px"
   },
   "toc_section_display": true,
   "toc_window_display": true
  },
  "varInspector": {
   "cols": {
    "lenName": 16,
    "lenType": 16,
    "lenVar": 40
   },
   "kernels_config": {
    "python": {
     "delete_cmd_postfix": "",
     "delete_cmd_prefix": "del ",
     "library": "var_list.py",
     "varRefreshCmd": "print(var_dic_list())"
    },
    "r": {
     "delete_cmd_postfix": ") ",
     "delete_cmd_prefix": "rm(",
     "library": "var_list.r",
     "varRefreshCmd": "cat(var_dic_list()) "
    }
   },
   "types_to_exclude": [
    "module",
    "function",
    "builtin_function_or_method",
    "instance",
    "_Feature"
   ],
   "window_display": false
  }
 },
 "nbformat": 4,
 "nbformat_minor": 4
}
